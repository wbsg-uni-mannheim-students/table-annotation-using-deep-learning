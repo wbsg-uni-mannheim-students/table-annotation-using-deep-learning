{
 "cells": [
  {
   "cell_type": "code",
   "execution_count": 1,
   "id": "b985a4ba",
   "metadata": {},
   "outputs": [],
   "source": [
    "import pandas as pd\n",
    "import re\n",
    "import multiprocessing"
   ]
  },
  {
   "cell_type": "code",
   "execution_count": 2,
   "id": "7bc1156b",
   "metadata": {},
   "outputs": [],
   "source": [
    "#Read the ground truth files\n",
    "cta_train_gt = pd.read_csv('data/CTA/CTA_training_gt.csv')\n",
    "cta_val_gt = pd.read_csv('data/CTA/CTA_validation_gt.csv')\n",
    "cta_test_gt = pd.read_csv('data/CTA/CTA_test_gt.csv')"
   ]
  },
  {
   "cell_type": "code",
   "execution_count": 3,
   "id": "dde78941",
   "metadata": {},
   "outputs": [
    {
     "data": {
      "text/html": [
       "<div>\n",
       "<style scoped>\n",
       "    .dataframe tbody tr th:only-of-type {\n",
       "        vertical-align: middle;\n",
       "    }\n",
       "\n",
       "    .dataframe tbody tr th {\n",
       "        vertical-align: top;\n",
       "    }\n",
       "\n",
       "    .dataframe thead th {\n",
       "        text-align: right;\n",
       "    }\n",
       "</style>\n",
       "<table border=\"1\" class=\"dataframe\">\n",
       "  <thead>\n",
       "    <tr style=\"text-align: right;\">\n",
       "      <th></th>\n",
       "      <th>table_name</th>\n",
       "      <th>column_index</th>\n",
       "      <th>label</th>\n",
       "    </tr>\n",
       "  </thead>\n",
       "  <tbody>\n",
       "    <tr>\n",
       "      <th>0</th>\n",
       "      <td>Product_corememoriesco.com_September2020_CTA.j...</td>\n",
       "      <td>5</td>\n",
       "      <td>currency</td>\n",
       "    </tr>\n",
       "    <tr>\n",
       "      <th>1</th>\n",
       "      <td>Product_corememoriesco.com_September2020_CTA.j...</td>\n",
       "      <td>0</td>\n",
       "      <td>Product/name</td>\n",
       "    </tr>\n",
       "    <tr>\n",
       "      <th>2</th>\n",
       "      <td>Product_corememoriesco.com_September2020_CTA.j...</td>\n",
       "      <td>3</td>\n",
       "      <td>price</td>\n",
       "    </tr>\n",
       "    <tr>\n",
       "      <th>3</th>\n",
       "      <td>CreativeWork_paintout.org_September2020_CTA.js...</td>\n",
       "      <td>2</td>\n",
       "      <td>DateTime</td>\n",
       "    </tr>\n",
       "    <tr>\n",
       "      <th>4</th>\n",
       "      <td>Product_michaelirvine.com_September2020_CTA.js...</td>\n",
       "      <td>4</td>\n",
       "      <td>currency</td>\n",
       "    </tr>\n",
       "    <tr>\n",
       "      <th>...</th>\n",
       "      <td>...</td>\n",
       "      <td>...</td>\n",
       "      <td>...</td>\n",
       "    </tr>\n",
       "    <tr>\n",
       "      <th>130466</th>\n",
       "      <td>Event_kivasports.net_September2020_CTA.json.gz</td>\n",
       "      <td>1</td>\n",
       "      <td>Event/name</td>\n",
       "    </tr>\n",
       "    <tr>\n",
       "      <th>130467</th>\n",
       "      <td>Event_kivasports.net_September2020_CTA.json.gz</td>\n",
       "      <td>5</td>\n",
       "      <td>telephone</td>\n",
       "    </tr>\n",
       "    <tr>\n",
       "      <th>130468</th>\n",
       "      <td>Event_kivasports.net_September2020_CTA.json.gz</td>\n",
       "      <td>6</td>\n",
       "      <td>Place</td>\n",
       "    </tr>\n",
       "    <tr>\n",
       "      <th>130469</th>\n",
       "      <td>Event_kivasports.net_September2020_CTA.json.gz</td>\n",
       "      <td>13</td>\n",
       "      <td>telephone</td>\n",
       "    </tr>\n",
       "    <tr>\n",
       "      <th>130470</th>\n",
       "      <td>Event_kivasports.net_September2020_CTA.json.gz</td>\n",
       "      <td>14</td>\n",
       "      <td>email</td>\n",
       "    </tr>\n",
       "  </tbody>\n",
       "</table>\n",
       "<p>130471 rows × 3 columns</p>\n",
       "</div>"
      ],
      "text/plain": [
       "                                               table_name  column_index  \\\n",
       "0       Product_corememoriesco.com_September2020_CTA.j...             5   \n",
       "1       Product_corememoriesco.com_September2020_CTA.j...             0   \n",
       "2       Product_corememoriesco.com_September2020_CTA.j...             3   \n",
       "3       CreativeWork_paintout.org_September2020_CTA.js...             2   \n",
       "4       Product_michaelirvine.com_September2020_CTA.js...             4   \n",
       "...                                                   ...           ...   \n",
       "130466     Event_kivasports.net_September2020_CTA.json.gz             1   \n",
       "130467     Event_kivasports.net_September2020_CTA.json.gz             5   \n",
       "130468     Event_kivasports.net_September2020_CTA.json.gz             6   \n",
       "130469     Event_kivasports.net_September2020_CTA.json.gz            13   \n",
       "130470     Event_kivasports.net_September2020_CTA.json.gz            14   \n",
       "\n",
       "               label  \n",
       "0           currency  \n",
       "1       Product/name  \n",
       "2              price  \n",
       "3           DateTime  \n",
       "4           currency  \n",
       "...              ...  \n",
       "130466    Event/name  \n",
       "130467     telephone  \n",
       "130468         Place  \n",
       "130469     telephone  \n",
       "130470         email  \n",
       "\n",
       "[130471 rows x 3 columns]"
      ]
     },
     "execution_count": 3,
     "metadata": {},
     "output_type": "execute_result"
    }
   ],
   "source": [
    "cta_train_gt"
   ]
  },
  {
   "cell_type": "code",
   "execution_count": 4,
   "id": "69b528b4",
   "metadata": {},
   "outputs": [],
   "source": [
    "cta_train_cols = (cta_train_gt['table_name'] + '|' + cta_train_gt['column_index'].map(str) + '|' + cta_train_gt['label']).tolist()\n",
    "cta_val_cols = (cta_val_gt['table_name'] + '|' + cta_val_gt['column_index'].map(str) + '|' + cta_val_gt['label']).tolist()\n",
    "cta_test_cols = (cta_test_gt['table_name'] + '|' + cta_test_gt['column_index'].map(str) + '|' + cta_test_gt['label']).tolist()"
   ]
  },
  {
   "cell_type": "code",
   "execution_count": 5,
   "id": "05276f3b",
   "metadata": {},
   "outputs": [],
   "source": [
    "#Read type vocabulary\n",
    "types_file = open(\"data/type_vocab.txt\", 'r')\n",
    "type_labels = [line.replace('\\n', '').split('\\t')[1] for line in types_file.readlines()]"
   ]
  },
  {
   "cell_type": "code",
   "execution_count": 6,
   "id": "07fdfaaf",
   "metadata": {},
   "outputs": [],
   "source": [
    "#Simple Preprocessing\n",
    "\n",
    "def clean_text(text):\n",
    "        \n",
    "    if(isinstance(text, dict)):\n",
    "        text = ' '.join([ clean_text(v) for k, v in text.items()] )\n",
    "    elif(isinstance(text, list)):\n",
    "        text = map(clean_text, text)\n",
    "        text = ' '.join(text)\n",
    "        \n",
    "    if pd.isnull(text):\n",
    "        return ''\n",
    "    \n",
    "    #Remove non-ASCII characters\n",
    "    text = re.sub(r\"[^\\x00-\\x7F]+\", \" \", str(text))\n",
    "    \n",
    "    #Remove excess whitespaces\n",
    "    text = re.sub(' +', ' ', text).strip()\n",
    "    \n",
    "    return text\n"
   ]
  },
  {
   "cell_type": "code",
   "execution_count": 7,
   "id": "31d9739c",
   "metadata": {},
   "outputs": [],
   "source": [
    "# Prepare format of input datasets for LM models: table_id, [labels], data, label_ids\n",
    "def get_table_column(column):\n",
    "    file_name, column_index, label = column.split('|')\n",
    "    \n",
    "    #By column\n",
    "    if file_name in cta_train_gt['table_name'].tolist():\n",
    "        path = 'data/CTA/Train/'+file_name\n",
    "    elif file_name in cta_val_gt['table_name'].tolist():\n",
    "        path = 'data/CTA/Validation/'+file_name\n",
    "    else:\n",
    "        path = 'data/CTA/Test/'+file_name\n",
    "    \n",
    "    df = pd.read_json(path, compression='gzip', lines=True)\n",
    "    \n",
    "    y = [0] * len(type_labels)\n",
    "    y[type_labels.index(label)] = 1\n",
    "    \n",
    "    return [\n",
    "        file_name, #table_id\n",
    "        [label], #[labels]\n",
    "        clean_text(df.iloc[:, int(column_index)].tolist()), #data #To cut data to 200,000 length [:200000]\n",
    "        y #label_ids\n",
    "    ]"
   ]
  },
  {
   "cell_type": "code",
   "execution_count": 8,
   "id": "faab55e5",
   "metadata": {},
   "outputs": [],
   "source": [
    "pool = multiprocessing.Pool(processes=4)\n",
    "train_result = pool.map(get_table_column, cta_train_cols)\n",
    "val_result = pool.map(get_table_column, cta_val_cols)\n",
    "test_result = pool.map(get_table_column, cta_test_cols)\n",
    "pool.close()\n",
    "pool.join()"
   ]
  },
  {
   "cell_type": "code",
   "execution_count": 10,
   "id": "345405aa",
   "metadata": {},
   "outputs": [],
   "source": [
    "pd.DataFrame(train_result, columns=['table_id', 'labels', 'data', 'label_ids']).to_csv('data/CTA/cta_train_lm.csv.gz', compression='gzip')\n",
    "pd.DataFrame(val_result, columns=['table_id', 'labels', 'data', 'label_ids']).to_csv('data/CTA/cta_val_lm.csv.gz', compression='gzip')\n",
    "pd.DataFrame(test_result, columns=['table_id', 'labels', 'data', 'label_ids']).to_csv('data/CTA/cta_test_lm.csv.gz', compression='gzip')"
   ]
  },
  {
   "cell_type": "code",
   "execution_count": 11,
   "id": "08724b77",
   "metadata": {},
   "outputs": [],
   "source": [
    "cta = {}\n",
    "cta['train'] = pd.DataFrame(train_result, columns=['table_id', 'labels', 'data', 'label_ids'])\n",
    "cta['dev'] = pd.DataFrame(val_result, columns=['table_id', 'labels', 'data', 'label_ids'])\n",
    "cta['test'] = pd.DataFrame(test_result, columns=['table_id', 'labels', 'data', 'label_ids'])"
   ]
  },
  {
   "cell_type": "code",
   "execution_count": 13,
   "id": "ad62f94a",
   "metadata": {},
   "outputs": [],
   "source": [
    "cta['train'].to_json('data/CTA/cta_train_lm.json', orient='values')"
   ]
  },
  {
   "cell_type": "code",
   "execution_count": 12,
   "id": "ce63c200",
   "metadata": {},
   "outputs": [],
   "source": [
    "import pickle\n",
    "file_name='data/CTA/cta_lm.pkl'\n",
    "f = open(file_name,'wb')\n",
    "pickle.dump(cta,f)\n",
    "f.close()"
   ]
  },
  {
   "cell_type": "code",
   "execution_count": null,
   "id": "4bf451f2",
   "metadata": {},
   "outputs": [],
   "source": []
  }
 ],
 "metadata": {
  "kernelspec": {
   "display_name": "Python 3.9.12 64-bit",
   "language": "python",
   "name": "python3"
  },
  "language_info": {
   "codemirror_mode": {
    "name": "ipython",
    "version": 3
   },
   "file_extension": ".py",
   "mimetype": "text/x-python",
   "name": "python",
   "nbconvert_exporter": "python",
   "pygments_lexer": "ipython3",
   "version": "3.9.12"
  },
  "vscode": {
   "interpreter": {
    "hash": "aee8b7b246df8f9039afb4144a1f6fd8d2ca17a180786b69acc140d282b71a49"
   }
  }
 },
 "nbformat": 4,
 "nbformat_minor": 5
}
